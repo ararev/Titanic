{
 "cells": [
  {
   "cell_type": "code",
   "execution_count": 1,
   "id": "sufficient-expression",
   "metadata": {
    "_cell_guid": "b1076dfc-b9ad-4769-8c92-a6c4dae69d19",
    "_uuid": "8f2839f25d086af736a60e9eeb907d3b93b6e0e5",
    "execution": {
     "iopub.execute_input": "2021-05-20T16:17:32.065479Z",
     "iopub.status.busy": "2021-05-20T16:17:32.064800Z",
     "iopub.status.idle": "2021-05-20T16:17:32.071228Z",
     "shell.execute_reply": "2021-05-20T16:17:32.070425Z",
     "shell.execute_reply.started": "2021-05-20T16:16:43.847603Z"
    },
    "papermill": {
     "duration": 0.054151,
     "end_time": "2021-05-20T16:17:32.071422",
     "exception": false,
     "start_time": "2021-05-20T16:17:32.017271",
     "status": "completed"
    },
    "tags": []
   },
   "outputs": [
    {
     "name": "stdout",
     "output_type": "stream",
     "text": [
      "/kaggle/input/titanic/train.csv\n",
      "/kaggle/input/titanic/test.csv\n",
      "/kaggle/input/titanic/gender_submission.csv\n"
     ]
    }
   ],
   "source": [
    "# This Python 3 environment comes with many helpful analytics libraries installed\n",
    "# It is defined by the kaggle/python Docker image: https://github.com/kaggle/docker-python\n",
    "# For example, here's several helpful packages to load\n",
    "\n",
    "import numpy as np # linear algebra\n",
    "import pandas as pd # data processing, CSV file I/O (e.g. pd.read_csv)\n",
    "\n",
    "# Input data files are available in the read-only \"../input/\" directory\n",
    "# For example, running this (by clicking run or pressing Shift+Enter) will list all files under the input directory\n",
    "\n",
    "import os\n",
    "for dirname, _, filenames in os.walk('/kaggle/input'):\n",
    "    for filename in filenames:\n",
    "        print(os.path.join(dirname, filename))\n",
    "\n",
    "# You can write up to 20GB to the current directory (/kaggle/working/) that gets preserved as output when you create a version using \"Save & Run All\" \n",
    "# You can also write temporary files to /kaggle/temp/, but they won't be saved outside of the current session"
   ]
  },
  {
   "cell_type": "code",
   "execution_count": 2,
   "id": "chubby-syracuse",
   "metadata": {
    "execution": {
     "iopub.execute_input": "2021-05-20T16:17:32.146588Z",
     "iopub.status.busy": "2021-05-20T16:17:32.145573Z",
     "iopub.status.idle": "2021-05-20T16:17:32.195880Z",
     "shell.execute_reply": "2021-05-20T16:17:32.196396Z",
     "shell.execute_reply.started": "2021-05-20T16:16:43.865993Z"
    },
    "papermill": {
     "duration": 0.089356,
     "end_time": "2021-05-20T16:17:32.196576",
     "exception": false,
     "start_time": "2021-05-20T16:17:32.107220",
     "status": "completed"
    },
    "tags": []
   },
   "outputs": [
    {
     "data": {
      "text/html": [
       "<div>\n",
       "<style scoped>\n",
       "    .dataframe tbody tr th:only-of-type {\n",
       "        vertical-align: middle;\n",
       "    }\n",
       "\n",
       "    .dataframe tbody tr th {\n",
       "        vertical-align: top;\n",
       "    }\n",
       "\n",
       "    .dataframe thead th {\n",
       "        text-align: right;\n",
       "    }\n",
       "</style>\n",
       "<table border=\"1\" class=\"dataframe\">\n",
       "  <thead>\n",
       "    <tr style=\"text-align: right;\">\n",
       "      <th></th>\n",
       "      <th>PassengerId</th>\n",
       "      <th>Survived</th>\n",
       "      <th>Pclass</th>\n",
       "      <th>Name</th>\n",
       "      <th>Sex</th>\n",
       "      <th>Age</th>\n",
       "      <th>SibSp</th>\n",
       "      <th>Parch</th>\n",
       "      <th>Ticket</th>\n",
       "      <th>Fare</th>\n",
       "      <th>Cabin</th>\n",
       "      <th>Embarked</th>\n",
       "    </tr>\n",
       "  </thead>\n",
       "  <tbody>\n",
       "    <tr>\n",
       "      <th>0</th>\n",
       "      <td>1</td>\n",
       "      <td>0</td>\n",
       "      <td>3</td>\n",
       "      <td>Braund, Mr. Owen Harris</td>\n",
       "      <td>male</td>\n",
       "      <td>22.0</td>\n",
       "      <td>1</td>\n",
       "      <td>0</td>\n",
       "      <td>A/5 21171</td>\n",
       "      <td>7.2500</td>\n",
       "      <td>NaN</td>\n",
       "      <td>S</td>\n",
       "    </tr>\n",
       "    <tr>\n",
       "      <th>1</th>\n",
       "      <td>2</td>\n",
       "      <td>1</td>\n",
       "      <td>1</td>\n",
       "      <td>Cumings, Mrs. John Bradley (Florence Briggs Th...</td>\n",
       "      <td>female</td>\n",
       "      <td>38.0</td>\n",
       "      <td>1</td>\n",
       "      <td>0</td>\n",
       "      <td>PC 17599</td>\n",
       "      <td>71.2833</td>\n",
       "      <td>C85</td>\n",
       "      <td>C</td>\n",
       "    </tr>\n",
       "    <tr>\n",
       "      <th>2</th>\n",
       "      <td>3</td>\n",
       "      <td>1</td>\n",
       "      <td>3</td>\n",
       "      <td>Heikkinen, Miss. Laina</td>\n",
       "      <td>female</td>\n",
       "      <td>26.0</td>\n",
       "      <td>0</td>\n",
       "      <td>0</td>\n",
       "      <td>STON/O2. 3101282</td>\n",
       "      <td>7.9250</td>\n",
       "      <td>NaN</td>\n",
       "      <td>S</td>\n",
       "    </tr>\n",
       "    <tr>\n",
       "      <th>3</th>\n",
       "      <td>4</td>\n",
       "      <td>1</td>\n",
       "      <td>1</td>\n",
       "      <td>Futrelle, Mrs. Jacques Heath (Lily May Peel)</td>\n",
       "      <td>female</td>\n",
       "      <td>35.0</td>\n",
       "      <td>1</td>\n",
       "      <td>0</td>\n",
       "      <td>113803</td>\n",
       "      <td>53.1000</td>\n",
       "      <td>C123</td>\n",
       "      <td>S</td>\n",
       "    </tr>\n",
       "    <tr>\n",
       "      <th>4</th>\n",
       "      <td>5</td>\n",
       "      <td>0</td>\n",
       "      <td>3</td>\n",
       "      <td>Allen, Mr. William Henry</td>\n",
       "      <td>male</td>\n",
       "      <td>35.0</td>\n",
       "      <td>0</td>\n",
       "      <td>0</td>\n",
       "      <td>373450</td>\n",
       "      <td>8.0500</td>\n",
       "      <td>NaN</td>\n",
       "      <td>S</td>\n",
       "    </tr>\n",
       "  </tbody>\n",
       "</table>\n",
       "</div>"
      ],
      "text/plain": [
       "   PassengerId  Survived  Pclass  \\\n",
       "0            1         0       3   \n",
       "1            2         1       1   \n",
       "2            3         1       3   \n",
       "3            4         1       1   \n",
       "4            5         0       3   \n",
       "\n",
       "                                                Name     Sex   Age  SibSp  \\\n",
       "0                            Braund, Mr. Owen Harris    male  22.0      1   \n",
       "1  Cumings, Mrs. John Bradley (Florence Briggs Th...  female  38.0      1   \n",
       "2                             Heikkinen, Miss. Laina  female  26.0      0   \n",
       "3       Futrelle, Mrs. Jacques Heath (Lily May Peel)  female  35.0      1   \n",
       "4                           Allen, Mr. William Henry    male  35.0      0   \n",
       "\n",
       "   Parch            Ticket     Fare Cabin Embarked  \n",
       "0      0         A/5 21171   7.2500   NaN        S  \n",
       "1      0          PC 17599  71.2833   C85        C  \n",
       "2      0  STON/O2. 3101282   7.9250   NaN        S  \n",
       "3      0            113803  53.1000  C123        S  \n",
       "4      0            373450   8.0500   NaN        S  "
      ]
     },
     "execution_count": 2,
     "metadata": {},
     "output_type": "execute_result"
    }
   ],
   "source": [
    "train = pd.read_csv(\"/kaggle/input/titanic/train.csv\")\n",
    "train.head()"
   ]
  },
  {
   "cell_type": "code",
   "execution_count": 3,
   "id": "funny-warehouse",
   "metadata": {
    "execution": {
     "iopub.execute_input": "2021-05-20T16:17:32.271733Z",
     "iopub.status.busy": "2021-05-20T16:17:32.270974Z",
     "iopub.status.idle": "2021-05-20T16:17:32.298186Z",
     "shell.execute_reply": "2021-05-20T16:17:32.297624Z",
     "shell.execute_reply.started": "2021-05-20T16:16:43.904756Z"
    },
    "papermill": {
     "duration": 0.067077,
     "end_time": "2021-05-20T16:17:32.298340",
     "exception": false,
     "start_time": "2021-05-20T16:17:32.231263",
     "status": "completed"
    },
    "tags": []
   },
   "outputs": [
    {
     "data": {
      "text/html": [
       "<div>\n",
       "<style scoped>\n",
       "    .dataframe tbody tr th:only-of-type {\n",
       "        vertical-align: middle;\n",
       "    }\n",
       "\n",
       "    .dataframe tbody tr th {\n",
       "        vertical-align: top;\n",
       "    }\n",
       "\n",
       "    .dataframe thead th {\n",
       "        text-align: right;\n",
       "    }\n",
       "</style>\n",
       "<table border=\"1\" class=\"dataframe\">\n",
       "  <thead>\n",
       "    <tr style=\"text-align: right;\">\n",
       "      <th></th>\n",
       "      <th>PassengerId</th>\n",
       "      <th>Pclass</th>\n",
       "      <th>Name</th>\n",
       "      <th>Sex</th>\n",
       "      <th>Age</th>\n",
       "      <th>SibSp</th>\n",
       "      <th>Parch</th>\n",
       "      <th>Ticket</th>\n",
       "      <th>Fare</th>\n",
       "      <th>Cabin</th>\n",
       "      <th>Embarked</th>\n",
       "    </tr>\n",
       "  </thead>\n",
       "  <tbody>\n",
       "    <tr>\n",
       "      <th>0</th>\n",
       "      <td>892</td>\n",
       "      <td>3</td>\n",
       "      <td>Kelly, Mr. James</td>\n",
       "      <td>male</td>\n",
       "      <td>34.5</td>\n",
       "      <td>0</td>\n",
       "      <td>0</td>\n",
       "      <td>330911</td>\n",
       "      <td>7.8292</td>\n",
       "      <td>NaN</td>\n",
       "      <td>Q</td>\n",
       "    </tr>\n",
       "    <tr>\n",
       "      <th>1</th>\n",
       "      <td>893</td>\n",
       "      <td>3</td>\n",
       "      <td>Wilkes, Mrs. James (Ellen Needs)</td>\n",
       "      <td>female</td>\n",
       "      <td>47.0</td>\n",
       "      <td>1</td>\n",
       "      <td>0</td>\n",
       "      <td>363272</td>\n",
       "      <td>7.0000</td>\n",
       "      <td>NaN</td>\n",
       "      <td>S</td>\n",
       "    </tr>\n",
       "    <tr>\n",
       "      <th>2</th>\n",
       "      <td>894</td>\n",
       "      <td>2</td>\n",
       "      <td>Myles, Mr. Thomas Francis</td>\n",
       "      <td>male</td>\n",
       "      <td>62.0</td>\n",
       "      <td>0</td>\n",
       "      <td>0</td>\n",
       "      <td>240276</td>\n",
       "      <td>9.6875</td>\n",
       "      <td>NaN</td>\n",
       "      <td>Q</td>\n",
       "    </tr>\n",
       "    <tr>\n",
       "      <th>3</th>\n",
       "      <td>895</td>\n",
       "      <td>3</td>\n",
       "      <td>Wirz, Mr. Albert</td>\n",
       "      <td>male</td>\n",
       "      <td>27.0</td>\n",
       "      <td>0</td>\n",
       "      <td>0</td>\n",
       "      <td>315154</td>\n",
       "      <td>8.6625</td>\n",
       "      <td>NaN</td>\n",
       "      <td>S</td>\n",
       "    </tr>\n",
       "    <tr>\n",
       "      <th>4</th>\n",
       "      <td>896</td>\n",
       "      <td>3</td>\n",
       "      <td>Hirvonen, Mrs. Alexander (Helga E Lindqvist)</td>\n",
       "      <td>female</td>\n",
       "      <td>22.0</td>\n",
       "      <td>1</td>\n",
       "      <td>1</td>\n",
       "      <td>3101298</td>\n",
       "      <td>12.2875</td>\n",
       "      <td>NaN</td>\n",
       "      <td>S</td>\n",
       "    </tr>\n",
       "  </tbody>\n",
       "</table>\n",
       "</div>"
      ],
      "text/plain": [
       "   PassengerId  Pclass                                          Name     Sex  \\\n",
       "0          892       3                              Kelly, Mr. James    male   \n",
       "1          893       3              Wilkes, Mrs. James (Ellen Needs)  female   \n",
       "2          894       2                     Myles, Mr. Thomas Francis    male   \n",
       "3          895       3                              Wirz, Mr. Albert    male   \n",
       "4          896       3  Hirvonen, Mrs. Alexander (Helga E Lindqvist)  female   \n",
       "\n",
       "    Age  SibSp  Parch   Ticket     Fare Cabin Embarked  \n",
       "0  34.5      0      0   330911   7.8292   NaN        Q  \n",
       "1  47.0      1      0   363272   7.0000   NaN        S  \n",
       "2  62.0      0      0   240276   9.6875   NaN        Q  \n",
       "3  27.0      0      0   315154   8.6625   NaN        S  \n",
       "4  22.0      1      1  3101298  12.2875   NaN        S  "
      ]
     },
     "execution_count": 3,
     "metadata": {},
     "output_type": "execute_result"
    }
   ],
   "source": [
    "test = pd.read_csv(\"/kaggle/input/titanic/test.csv\")\n",
    "test.head()"
   ]
  },
  {
   "cell_type": "code",
   "execution_count": 4,
   "id": "superior-contrary",
   "metadata": {
    "execution": {
     "iopub.execute_input": "2021-05-20T16:17:32.400902Z",
     "iopub.status.busy": "2021-05-20T16:17:32.399820Z",
     "iopub.status.idle": "2021-05-20T16:17:32.406403Z",
     "shell.execute_reply": "2021-05-20T16:17:32.407262Z",
     "shell.execute_reply.started": "2021-05-20T16:16:43.933399Z"
    },
    "papermill": {
     "duration": 0.068251,
     "end_time": "2021-05-20T16:17:32.407559",
     "exception": false,
     "start_time": "2021-05-20T16:17:32.339308",
     "status": "completed"
    },
    "tags": []
   },
   "outputs": [
    {
     "name": "stdout",
     "output_type": "stream",
     "text": [
      "% of women who are all survived: 0.7420382165605095\n"
     ]
    }
   ],
   "source": [
    "women = train.loc[train.Sex == 'female']['Survived']\n",
    "rate_women = sum(women)/len(women)\n",
    "print(\"% of women who are all survived:\", rate_women)"
   ]
  },
  {
   "cell_type": "code",
   "execution_count": 5,
   "id": "previous-suggestion",
   "metadata": {
    "execution": {
     "iopub.execute_input": "2021-05-20T16:17:32.499496Z",
     "iopub.status.busy": "2021-05-20T16:17:32.498589Z",
     "iopub.status.idle": "2021-05-20T16:17:32.501652Z",
     "shell.execute_reply": "2021-05-20T16:17:32.502394Z",
     "shell.execute_reply.started": "2021-05-20T16:16:43.943789Z"
    },
    "papermill": {
     "duration": 0.050885,
     "end_time": "2021-05-20T16:17:32.502643",
     "exception": false,
     "start_time": "2021-05-20T16:17:32.451758",
     "status": "completed"
    },
    "tags": []
   },
   "outputs": [
    {
     "name": "stdout",
     "output_type": "stream",
     "text": [
      "% of men who are all survived: 0.18890814558058924\n"
     ]
    }
   ],
   "source": [
    "men = train.loc[train.Sex == 'male']['Survived']\n",
    "rate_men = sum(men)/len(men)\n",
    "print(\"% of men who are all survived:\", rate_men)"
   ]
  },
  {
   "cell_type": "code",
   "execution_count": 6,
   "id": "powered-profession",
   "metadata": {
    "execution": {
     "iopub.execute_input": "2021-05-20T16:17:32.584291Z",
     "iopub.status.busy": "2021-05-20T16:17:32.583359Z",
     "iopub.status.idle": "2021-05-20T16:17:32.587830Z",
     "shell.execute_reply": "2021-05-20T16:17:32.587315Z",
     "shell.execute_reply.started": "2021-05-20T16:16:43.963349Z"
    },
    "papermill": {
     "duration": 0.049557,
     "end_time": "2021-05-20T16:17:32.587968",
     "exception": false,
     "start_time": "2021-05-20T16:17:32.538411",
     "status": "completed"
    },
    "tags": []
   },
   "outputs": [
    {
     "data": {
      "text/plain": [
       "PassengerId      0\n",
       "Survived         0\n",
       "Pclass           0\n",
       "Name             0\n",
       "Sex              0\n",
       "Age            177\n",
       "SibSp            0\n",
       "Parch            0\n",
       "Ticket           0\n",
       "Fare             0\n",
       "Cabin          687\n",
       "Embarked         2\n",
       "dtype: int64"
      ]
     },
     "execution_count": 6,
     "metadata": {},
     "output_type": "execute_result"
    }
   ],
   "source": [
    "train.isnull().sum()"
   ]
  },
  {
   "cell_type": "code",
   "execution_count": 7,
   "id": "informal-arcade",
   "metadata": {
    "execution": {
     "iopub.execute_input": "2021-05-20T16:17:32.669517Z",
     "iopub.status.busy": "2021-05-20T16:17:32.668621Z",
     "iopub.status.idle": "2021-05-20T16:17:32.672928Z",
     "shell.execute_reply": "2021-05-20T16:17:32.672332Z",
     "shell.execute_reply.started": "2021-05-20T16:16:43.984220Z"
    },
    "papermill": {
     "duration": 0.047796,
     "end_time": "2021-05-20T16:17:32.673082",
     "exception": false,
     "start_time": "2021-05-20T16:17:32.625286",
     "status": "completed"
    },
    "tags": []
   },
   "outputs": [
    {
     "data": {
      "text/plain": [
       "PassengerId      0\n",
       "Pclass           0\n",
       "Name             0\n",
       "Sex              0\n",
       "Age             86\n",
       "SibSp            0\n",
       "Parch            0\n",
       "Ticket           0\n",
       "Fare             1\n",
       "Cabin          327\n",
       "Embarked         0\n",
       "dtype: int64"
      ]
     },
     "execution_count": 7,
     "metadata": {},
     "output_type": "execute_result"
    }
   ],
   "source": [
    "test.isnull().sum()"
   ]
  },
  {
   "cell_type": "code",
   "execution_count": 8,
   "id": "liable-funds",
   "metadata": {
    "execution": {
     "iopub.execute_input": "2021-05-20T16:17:32.751831Z",
     "iopub.status.busy": "2021-05-20T16:17:32.751155Z",
     "iopub.status.idle": "2021-05-20T16:17:32.763452Z",
     "shell.execute_reply": "2021-05-20T16:17:32.762852Z",
     "shell.execute_reply.started": "2021-05-20T16:16:44.008083Z"
    },
    "papermill": {
     "duration": 0.054384,
     "end_time": "2021-05-20T16:17:32.763601",
     "exception": false,
     "start_time": "2021-05-20T16:17:32.709217",
     "status": "completed"
    },
    "tags": []
   },
   "outputs": [
    {
     "data": {
      "text/plain": [
       "0      22.0\n",
       "1      38.0\n",
       "2      26.0\n",
       "3      35.0\n",
       "4      35.0\n",
       "       ... \n",
       "886    27.0\n",
       "887    19.0\n",
       "888    28.0\n",
       "889    26.0\n",
       "890    32.0\n",
       "Name: Age, Length: 891, dtype: float64"
      ]
     },
     "execution_count": 8,
     "metadata": {},
     "output_type": "execute_result"
    }
   ],
   "source": [
    "train['Age'].fillna(train['Age'].median(),inplace=True)\n",
    "train['Age']"
   ]
  },
  {
   "cell_type": "code",
   "execution_count": 9,
   "id": "naked-richards",
   "metadata": {
    "execution": {
     "iopub.execute_input": "2021-05-20T16:17:32.847764Z",
     "iopub.status.busy": "2021-05-20T16:17:32.847030Z",
     "iopub.status.idle": "2021-05-20T16:17:32.850578Z",
     "shell.execute_reply": "2021-05-20T16:17:32.849948Z",
     "shell.execute_reply.started": "2021-05-20T16:16:44.026313Z"
    },
    "papermill": {
     "duration": 0.049127,
     "end_time": "2021-05-20T16:17:32.850722",
     "exception": false,
     "start_time": "2021-05-20T16:17:32.801595",
     "status": "completed"
    },
    "tags": []
   },
   "outputs": [
    {
     "data": {
      "text/plain": [
       "0      34.5\n",
       "1      47.0\n",
       "2      62.0\n",
       "3      27.0\n",
       "4      22.0\n",
       "       ... \n",
       "413    27.0\n",
       "414    39.0\n",
       "415    38.5\n",
       "416    27.0\n",
       "417    27.0\n",
       "Name: Age, Length: 418, dtype: float64"
      ]
     },
     "execution_count": 9,
     "metadata": {},
     "output_type": "execute_result"
    }
   ],
   "source": [
    "test['Age'].fillna(test['Age'].median(),inplace=True)\n",
    "test['Age']"
   ]
  },
  {
   "cell_type": "code",
   "execution_count": 10,
   "id": "atlantic-wrestling",
   "metadata": {
    "execution": {
     "iopub.execute_input": "2021-05-20T16:17:32.935299Z",
     "iopub.status.busy": "2021-05-20T16:17:32.934266Z",
     "iopub.status.idle": "2021-05-20T16:17:32.937378Z",
     "shell.execute_reply": "2021-05-20T16:17:32.936745Z",
     "shell.execute_reply.started": "2021-05-20T16:16:44.043218Z"
    },
    "papermill": {
     "duration": 0.049865,
     "end_time": "2021-05-20T16:17:32.937520",
     "exception": false,
     "start_time": "2021-05-20T16:17:32.887655",
     "status": "completed"
    },
    "tags": []
   },
   "outputs": [],
   "source": [
    "train['Embarked'].replace('nan',np.nan,inplace=True)\n",
    "train['Embarked'].fillna(train['Embarked'].mode()[0],inplace=True)"
   ]
  },
  {
   "cell_type": "code",
   "execution_count": 11,
   "id": "enclosed-tennis",
   "metadata": {
    "execution": {
     "iopub.execute_input": "2021-05-20T16:17:33.020262Z",
     "iopub.status.busy": "2021-05-20T16:17:33.019602Z",
     "iopub.status.idle": "2021-05-20T16:17:33.022374Z",
     "shell.execute_reply": "2021-05-20T16:17:33.021808Z",
     "shell.execute_reply.started": "2021-05-20T16:16:44.054397Z"
    },
    "papermill": {
     "duration": 0.047014,
     "end_time": "2021-05-20T16:17:33.022522",
     "exception": false,
     "start_time": "2021-05-20T16:17:32.975508",
     "status": "completed"
    },
    "tags": []
   },
   "outputs": [],
   "source": [
    "test['Embarked'].replace('nan',np.nan,inplace=True)\n",
    "test['Embarked'].fillna(test['Embarked'].mode()[0],inplace=True)"
   ]
  },
  {
   "cell_type": "code",
   "execution_count": 12,
   "id": "essential-portfolio",
   "metadata": {
    "execution": {
     "iopub.execute_input": "2021-05-20T16:17:33.106398Z",
     "iopub.status.busy": "2021-05-20T16:17:33.105556Z",
     "iopub.status.idle": "2021-05-20T16:17:33.108407Z",
     "shell.execute_reply": "2021-05-20T16:17:33.108911Z",
     "shell.execute_reply.started": "2021-05-20T16:16:44.070747Z"
    },
    "papermill": {
     "duration": 0.049676,
     "end_time": "2021-05-20T16:17:33.109136",
     "exception": false,
     "start_time": "2021-05-20T16:17:33.059460",
     "status": "completed"
    },
    "tags": []
   },
   "outputs": [],
   "source": [
    "train['Fare'] = train['Fare'].replace(0, train['Fare'].median())"
   ]
  },
  {
   "cell_type": "code",
   "execution_count": 13,
   "id": "complete-stable",
   "metadata": {
    "execution": {
     "iopub.execute_input": "2021-05-20T16:17:33.188365Z",
     "iopub.status.busy": "2021-05-20T16:17:33.187374Z",
     "iopub.status.idle": "2021-05-20T16:17:33.194166Z",
     "shell.execute_reply": "2021-05-20T16:17:33.194814Z",
     "shell.execute_reply.started": "2021-05-20T16:16:44.083403Z"
    },
    "papermill": {
     "duration": 0.047888,
     "end_time": "2021-05-20T16:17:33.195018",
     "exception": false,
     "start_time": "2021-05-20T16:17:33.147130",
     "status": "completed"
    },
    "tags": []
   },
   "outputs": [],
   "source": [
    "test['Fare'].replace('nan',np.nan,inplace=True)\n",
    "test['Fare'].fillna(test['Fare'].median(),inplace=True)"
   ]
  },
  {
   "cell_type": "code",
   "execution_count": 14,
   "id": "integral-waste",
   "metadata": {
    "execution": {
     "iopub.execute_input": "2021-05-20T16:17:33.274691Z",
     "iopub.status.busy": "2021-05-20T16:17:33.273713Z",
     "iopub.status.idle": "2021-05-20T16:17:33.282675Z",
     "shell.execute_reply": "2021-05-20T16:17:33.283181Z",
     "shell.execute_reply.started": "2021-05-20T16:16:44.099431Z"
    },
    "papermill": {
     "duration": 0.051232,
     "end_time": "2021-05-20T16:17:33.283357",
     "exception": false,
     "start_time": "2021-05-20T16:17:33.232125",
     "status": "completed"
    },
    "tags": []
   },
   "outputs": [
    {
     "data": {
      "text/plain": [
       "PassengerId      0\n",
       "Survived         0\n",
       "Pclass           0\n",
       "Name             0\n",
       "Sex              0\n",
       "Age              0\n",
       "SibSp            0\n",
       "Parch            0\n",
       "Ticket           0\n",
       "Fare             0\n",
       "Cabin          687\n",
       "Embarked         0\n",
       "dtype: int64"
      ]
     },
     "execution_count": 14,
     "metadata": {},
     "output_type": "execute_result"
    }
   ],
   "source": [
    "train.isnull().sum()"
   ]
  },
  {
   "cell_type": "code",
   "execution_count": 15,
   "id": "aquatic-error",
   "metadata": {
    "execution": {
     "iopub.execute_input": "2021-05-20T16:17:33.364424Z",
     "iopub.status.busy": "2021-05-20T16:17:33.363209Z",
     "iopub.status.idle": "2021-05-20T16:17:34.302887Z",
     "shell.execute_reply": "2021-05-20T16:17:34.302282Z",
     "shell.execute_reply.started": "2021-05-20T16:16:44.123074Z"
    },
    "papermill": {
     "duration": 0.980791,
     "end_time": "2021-05-20T16:17:34.303060",
     "exception": false,
     "start_time": "2021-05-20T16:17:33.322269",
     "status": "completed"
    },
    "tags": []
   },
   "outputs": [],
   "source": [
    "import matplotlib.pyplot as plt\n",
    "import seaborn as sns\n",
    "\n",
    "import warnings\n",
    "warnings.filterwarnings('ignore')"
   ]
  },
  {
   "cell_type": "code",
   "execution_count": 16,
   "id": "informational-knock",
   "metadata": {
    "execution": {
     "iopub.execute_input": "2021-05-20T16:17:34.404328Z",
     "iopub.status.busy": "2021-05-20T16:17:34.388850Z",
     "iopub.status.idle": "2021-05-20T16:17:34.669606Z",
     "shell.execute_reply": "2021-05-20T16:17:34.668925Z",
     "shell.execute_reply.started": "2021-05-20T16:16:44.146191Z"
    },
    "papermill": {
     "duration": 0.327397,
     "end_time": "2021-05-20T16:17:34.669750",
     "exception": false,
     "start_time": "2021-05-20T16:17:34.342353",
     "status": "completed"
    },
    "tags": []
   },
   "outputs": [
    {
     "data": {
      "text/plain": [
       "Text(0.5, 1.0, 'Fare')"
      ]
     },
     "execution_count": 16,
     "metadata": {},
     "output_type": "execute_result"
    },
    {
     "data": {
      "image/png": "[encoded data removed]",
      "text/plain": [
       "<Figure size 360x576 with 1 Axes>"
      ]
     },
     "metadata": {
      "needs_background": "light"
     },
     "output_type": "display_data"
    },
    {
     "data": {
      "image/png": "[encoded data removed]",
      "text/plain": [
       "<Figure size 360x576 with 1 Axes>"
      ]
     },
     "metadata": {
      "needs_background": "light"
     },
     "output_type": "display_data"
    }
   ],
   "source": [
    "plt.figure(figsize= (5,8))\n",
    "plt.subplot(2,1,1)\n",
    "sns.boxplot(x= train.Age, color='lightblue')\n",
    "plt.title('Age')\n",
    "\n",
    "plt.figure(figsize= (5,8))\n",
    "plt.subplot(2,1,2)\n",
    "sns.boxplot(x= train.Fare, color='blue')\n",
    "plt.title('Fare')"
   ]
  },
  {
   "cell_type": "code",
   "execution_count": 17,
   "id": "cellular-cincinnati",
   "metadata": {
    "execution": {
     "iopub.execute_input": "2021-05-20T16:17:34.754669Z",
     "iopub.status.busy": "2021-05-20T16:17:34.753922Z",
     "iopub.status.idle": "2021-05-20T16:17:34.757033Z",
     "shell.execute_reply": "2021-05-20T16:17:34.756515Z",
     "shell.execute_reply.started": "2021-05-20T16:16:44.439402Z"
    },
    "papermill": {
     "duration": 0.047676,
     "end_time": "2021-05-20T16:17:34.757182",
     "exception": false,
     "start_time": "2021-05-20T16:17:34.709506",
     "status": "completed"
    },
    "tags": []
   },
   "outputs": [],
   "source": [
    "def remove_outlier(col):\n",
    "    sorted(col)\n",
    "    Q1,Q3=col.quantile([0.25,0.75])\n",
    "    IQR=Q3-Q1\n",
    "    lower_range= Q1-(1.5 * IQR)\n",
    "    upper_range= Q3+(1.5 * IQR)\n",
    "    return lower_range, upper_range  "
   ]
  },
  {
   "cell_type": "code",
   "execution_count": 18,
   "id": "twelve-formation",
   "metadata": {
    "execution": {
     "iopub.execute_input": "2021-05-20T16:17:34.848301Z",
     "iopub.status.busy": "2021-05-20T16:17:34.847566Z",
     "iopub.status.idle": "2021-05-20T16:17:34.874223Z",
     "shell.execute_reply": "2021-05-20T16:17:34.873488Z",
     "shell.execute_reply.started": "2021-05-20T16:16:44.448593Z"
    },
    "papermill": {
     "duration": 0.077421,
     "end_time": "2021-05-20T16:17:34.874379",
     "exception": false,
     "start_time": "2021-05-20T16:17:34.796958",
     "status": "completed"
    },
    "tags": []
   },
   "outputs": [],
   "source": [
    "lrApps,urApps=remove_outlier(train['Age'])\n",
    "train['Age']=np.where(train['Age']>urApps,urApps,train['Age'])\n",
    "train['Age']=np.where(train['Age']<lrApps,lrApps,train['Age'])\n",
    "\n",
    "lrApps,urApps=remove_outlier(train['Fare'])\n",
    "train['Fare']=np.where(train['Fare']>urApps,urApps,train['Fare'])\n",
    "train['Fare']=np.where(train['Fare']<lrApps,lrApps,train['Fare'])"
   ]
  },
  {
   "cell_type": "code",
   "execution_count": 19,
   "id": "substantial-courage",
   "metadata": {
    "execution": {
     "iopub.execute_input": "2021-05-20T16:17:34.992459Z",
     "iopub.status.busy": "2021-05-20T16:17:34.984681Z",
     "iopub.status.idle": "2021-05-20T16:17:35.190373Z",
     "shell.execute_reply": "2021-05-20T16:17:35.189676Z",
     "shell.execute_reply.started": "2021-05-20T16:16:44.470164Z"
    },
    "papermill": {
     "duration": 0.277047,
     "end_time": "2021-05-20T16:17:35.190524",
     "exception": false,
     "start_time": "2021-05-20T16:17:34.913477",
     "status": "completed"
    },
    "tags": []
   },
   "outputs": [
    {
     "data": {
      "text/plain": [
       "Text(0.5, 1.0, 'Fare')"
      ]
     },
     "execution_count": 19,
     "metadata": {},
     "output_type": "execute_result"
    },
    {
     "data": {
      "image/png": "[encoded data removed]",
      "text/plain": [
       "<Figure size 360x576 with 1 Axes>"
      ]
     },
     "metadata": {
      "needs_background": "light"
     },
     "output_type": "display_data"
    },
    {
     "data": {
      "image/png": "[encoded data removed]",
      "text/plain": [
       "<Figure size 360x576 with 1 Axes>"
      ]
     },
     "metadata": {
      "needs_background": "light"
     },
     "output_type": "display_data"
    }
   ],
   "source": [
    "plt.figure(figsize= (5,8))\n",
    "plt.subplot(2,1,1)\n",
    "sns.boxplot(x= train.Age, color='lightblue')\n",
    "plt.title('Age')\n",
    "\n",
    "plt.figure(figsize= (5,8))\n",
    "plt.subplot(2,1,2)\n",
    "sns.boxplot(x= train.Fare, color='blue')\n",
    "plt.title('Fare')"
   ]
  },
  {
   "cell_type": "code",
   "execution_count": 20,
   "id": "neutral-metro",
   "metadata": {
    "execution": {
     "iopub.execute_input": "2021-05-20T16:17:35.309320Z",
     "iopub.status.busy": "2021-05-20T16:17:35.307793Z",
     "iopub.status.idle": "2021-05-20T16:17:35.530373Z",
     "shell.execute_reply": "2021-05-20T16:17:35.529719Z",
     "shell.execute_reply.started": "2021-05-20T16:16:44.849501Z"
    },
    "papermill": {
     "duration": 0.296414,
     "end_time": "2021-05-20T16:17:35.530521",
     "exception": false,
     "start_time": "2021-05-20T16:17:35.234107",
     "status": "completed"
    },
    "tags": []
   },
   "outputs": [
    {
     "data": {
      "text/plain": [
       "Text(0.5, 1.0, 'Fare')"
      ]
     },
     "execution_count": 20,
     "metadata": {},
     "output_type": "execute_result"
    },
    {
     "data": {
      "image/png": "[encoded data removed]",
      "text/plain": [
       "<Figure size 360x576 with 1 Axes>"
      ]
     },
     "metadata": {
      "needs_background": "light"
     },
     "output_type": "display_data"
    },
    {
     "data": {
      "image/png": "[encoded data removed]",
      "text/plain": [
       "<Figure size 360x576 with 1 Axes>"
      ]
     },
     "metadata": {
      "needs_background": "light"
     },
     "output_type": "display_data"
    }
   ],
   "source": [
    "plt.figure(figsize= (5,8))\n",
    "plt.subplot(2,1,1)\n",
    "sns.boxplot(x= test.Age, color='lightblue')\n",
    "plt.title('Age')\n",
    "\n",
    "plt.figure(figsize= (5,8))\n",
    "plt.subplot(2,1,2)\n",
    "sns.boxplot(x= test.Fare, color='blue')\n",
    "plt.title('Fare')"
   ]
  },
  {
   "cell_type": "code",
   "execution_count": 21,
   "id": "decimal-rotation",
   "metadata": {
    "execution": {
     "iopub.execute_input": "2021-05-20T16:17:35.620739Z",
     "iopub.status.busy": "2021-05-20T16:17:35.620023Z",
     "iopub.status.idle": "2021-05-20T16:17:35.623185Z",
     "shell.execute_reply": "2021-05-20T16:17:35.622600Z",
     "shell.execute_reply.started": "2021-05-20T16:16:45.102227Z"
    },
    "papermill": {
     "duration": 0.050582,
     "end_time": "2021-05-20T16:17:35.623329",
     "exception": false,
     "start_time": "2021-05-20T16:17:35.572747",
     "status": "completed"
    },
    "tags": []
   },
   "outputs": [],
   "source": [
    "def remove_outlier(col):\n",
    "    sorted(col)\n",
    "    Q1,Q3=col.quantile([0.25,0.75])\n",
    "    IQR=Q3-Q1\n",
    "    lower_range= Q1-(1.5 * IQR)\n",
    "    upper_range= Q3+(1.5 * IQR)\n",
    "    return lower_range, upper_range"
   ]
  },
  {
   "cell_type": "code",
   "execution_count": 22,
   "id": "polish-courage",
   "metadata": {
    "execution": {
     "iopub.execute_input": "2021-05-20T16:17:35.719985Z",
     "iopub.status.busy": "2021-05-20T16:17:35.716233Z",
     "iopub.status.idle": "2021-05-20T16:17:35.725978Z",
     "shell.execute_reply": "2021-05-20T16:17:35.725403Z",
     "shell.execute_reply.started": "2021-05-20T16:16:45.110509Z"
    },
    "papermill": {
     "duration": 0.059687,
     "end_time": "2021-05-20T16:17:35.726143",
     "exception": false,
     "start_time": "2021-05-20T16:17:35.666456",
     "status": "completed"
    },
    "tags": []
   },
   "outputs": [],
   "source": [
    "lrApps,urApps=remove_outlier(test['Age'])\n",
    "test['Age']=np.where(test['Age']>urApps,urApps,test['Age'])\n",
    "test['Age']=np.where(test['Age']<lrApps,lrApps,test['Age'])\n",
    "\n",
    "lrApps,urApps=remove_outlier(test['Fare'])\n",
    "test['Fare']=np.where(test['Fare']>urApps,urApps,test['Fare'])\n",
    "test['Fare']=np.where(test['Fare']<lrApps,lrApps,test['Fare'])"
   ]
  },
  {
   "cell_type": "code",
   "execution_count": 23,
   "id": "strange-interim",
   "metadata": {
    "execution": {
     "iopub.execute_input": "2021-05-20T16:17:35.837434Z",
     "iopub.status.busy": "2021-05-20T16:17:35.832618Z",
     "iopub.status.idle": "2021-05-20T16:17:36.049159Z",
     "shell.execute_reply": "2021-05-20T16:17:36.048492Z",
     "shell.execute_reply.started": "2021-05-20T16:16:45.133501Z"
    },
    "papermill": {
     "duration": 0.280193,
     "end_time": "2021-05-20T16:17:36.049314",
     "exception": false,
     "start_time": "2021-05-20T16:17:35.769121",
     "status": "completed"
    },
    "tags": []
   },
   "outputs": [
    {
     "data": {
      "text/plain": [
       "Text(0.5, 1.0, 'Fare')"
      ]
     },
     "execution_count": 23,
     "metadata": {},
     "output_type": "execute_result"
    },
    {
     "data": {
      "image/png": "[encoded data removed]",
      "text/plain": [
       "<Figure size 360x576 with 1 Axes>"
      ]
     },
     "metadata": {
      "needs_background": "light"
     },
     "output_type": "display_data"
    },
    {
     "data": {
      "image/png": "[encoded data removed]",
      "text/plain": [
       "<Figure size 360x576 with 1 Axes>"
      ]
     },
     "metadata": {
      "needs_background": "light"
     },
     "output_type": "display_data"
    }
   ],
   "source": [
    "plt.figure(figsize= (5,8))\n",
    "plt.subplot(2,1,1)\n",
    "sns.boxplot(x= test.Age, color='lightblue')\n",
    "plt.title('Age')\n",
    "\n",
    "plt.figure(figsize= (5,8))\n",
    "plt.subplot(2,1,2)\n",
    "sns.boxplot(x= test.Fare, color='blue')\n",
    "plt.title('Fare')"
   ]
  },
  {
   "cell_type": "code",
   "execution_count": 24,
   "id": "large-bermuda",
   "metadata": {
    "execution": {
     "iopub.execute_input": "2021-05-20T16:17:36.145146Z",
     "iopub.status.busy": "2021-05-20T16:17:36.144192Z",
     "iopub.status.idle": "2021-05-20T16:17:36.148596Z",
     "shell.execute_reply": "2021-05-20T16:17:36.148107Z",
     "shell.execute_reply.started": "2021-05-20T16:16:45.395736Z"
    },
    "papermill": {
     "duration": 0.055693,
     "end_time": "2021-05-20T16:17:36.148739",
     "exception": false,
     "start_time": "2021-05-20T16:17:36.093046",
     "status": "completed"
    },
    "tags": []
   },
   "outputs": [
    {
     "data": {
      "text/plain": [
       "0    549\n",
       "1    342\n",
       "Name: Survived, dtype: int64"
      ]
     },
     "execution_count": 24,
     "metadata": {},
     "output_type": "execute_result"
    }
   ],
   "source": [
    "train.Survived.value_counts()"
   ]
  },
  {
   "cell_type": "code",
   "execution_count": 25,
   "id": "electric-recovery",
   "metadata": {
    "execution": {
     "iopub.execute_input": "2021-05-20T16:17:36.244639Z",
     "iopub.status.busy": "2021-05-20T16:17:36.243645Z",
     "iopub.status.idle": "2021-05-20T16:17:36.248054Z",
     "shell.execute_reply": "2021-05-20T16:17:36.247511Z",
     "shell.execute_reply.started": "2021-05-20T16:16:45.408121Z"
    },
    "papermill": {
     "duration": 0.055687,
     "end_time": "2021-05-20T16:17:36.248194",
     "exception": false,
     "start_time": "2021-05-20T16:17:36.192507",
     "status": "completed"
    },
    "tags": []
   },
   "outputs": [
    {
     "data": {
      "text/plain": [
       "0    0.616162\n",
       "1    0.383838\n",
       "Name: Survived, dtype: float64"
      ]
     },
     "execution_count": 25,
     "metadata": {},
     "output_type": "execute_result"
    }
   ],
   "source": [
    "train.Survived.value_counts(normalize=True)"
   ]
  },
  {
   "cell_type": "code",
   "execution_count": 26,
   "id": "hairy-missile",
   "metadata": {
    "execution": {
     "iopub.execute_input": "2021-05-20T16:17:36.346438Z",
     "iopub.status.busy": "2021-05-20T16:17:36.345444Z",
     "iopub.status.idle": "2021-05-20T16:17:36.350738Z",
     "shell.execute_reply": "2021-05-20T16:17:36.351554Z",
     "shell.execute_reply.started": "2021-05-20T16:16:45.424107Z"
    },
    "papermill": {
     "duration": 0.059235,
     "end_time": "2021-05-20T16:17:36.351805",
     "exception": false,
     "start_time": "2021-05-20T16:17:36.292570",
     "status": "completed"
    },
    "tags": []
   },
   "outputs": [
    {
     "name": "stdout",
     "output_type": "stream",
     "text": [
      "% of women who are all survived: 0.7420382165605095\n"
     ]
    }
   ],
   "source": [
    "women = train.loc[train.Sex == 'female']['Survived']\n",
    "rate_women = sum(women)/len(women)\n",
    "print(\"% of women who are all survived:\", rate_women)"
   ]
  },
  {
   "cell_type": "code",
   "execution_count": 27,
   "id": "exotic-barcelona",
   "metadata": {
    "execution": {
     "iopub.execute_input": "2021-05-20T16:17:36.454074Z",
     "iopub.status.busy": "2021-05-20T16:17:36.452268Z",
     "iopub.status.idle": "2021-05-20T16:17:36.457940Z",
     "shell.execute_reply": "2021-05-20T16:17:36.458680Z",
     "shell.execute_reply.started": "2021-05-20T16:16:45.440885Z"
    },
    "papermill": {
     "duration": 0.058745,
     "end_time": "2021-05-20T16:17:36.458947",
     "exception": false,
     "start_time": "2021-05-20T16:17:36.400202",
     "status": "completed"
    },
    "tags": []
   },
   "outputs": [
    {
     "name": "stdout",
     "output_type": "stream",
     "text": [
      "% of men who are all survived: 0.18890814558058924\n"
     ]
    }
   ],
   "source": [
    "men = train.loc[train.Sex == 'male']['Survived']\n",
    "rate_men = sum(men)/len(men)\n",
    "print(\"% of men who are all survived:\", rate_men)"
   ]
  },
  {
   "cell_type": "code",
   "execution_count": 28,
   "id": "democratic-surfing",
   "metadata": {
    "execution": {
     "iopub.execute_input": "2021-05-20T16:17:36.557156Z",
     "iopub.status.busy": "2021-05-20T16:17:36.556419Z",
     "iopub.status.idle": "2021-05-20T16:17:37.205624Z",
     "shell.execute_reply": "2021-05-20T16:17:37.204874Z",
     "shell.execute_reply.started": "2021-05-20T16:16:45.459148Z"
    },
    "papermill": {
     "duration": 0.700684,
     "end_time": "2021-05-20T16:17:37.205790",
     "exception": false,
     "start_time": "2021-05-20T16:17:36.505106",
     "status": "completed"
    },
    "tags": []
   },
   "outputs": [],
   "source": [
    "from sklearn.linear_model import LogisticRegression \n",
    "from sklearn.metrics import confusion_matrix, classification_report\n",
    "from sklearn.tree import DecisionTreeClassifier\n",
    "from sklearn.ensemble import RandomForestClassifier\n",
    "from sklearn.model_selection import GridSearchCV\n",
    "from sklearn.metrics import classification_report\n",
    "from sklearn.model_selection import train_test_split,GridSearchCV\n",
    "from sklearn.metrics import roc_auc_score,roc_curve,classification_report,confusion_matrix,plot_confusion_matrix\n",
    "from sklearn.naive_bayes import GaussianNB\n",
    "from sklearn import metrics"
   ]
  },
  {
   "cell_type": "code",
   "execution_count": 29,
   "id": "commercial-genius",
   "metadata": {
    "execution": {
     "iopub.execute_input": "2021-05-20T16:17:37.318764Z",
     "iopub.status.busy": "2021-05-20T16:17:37.316787Z",
     "iopub.status.idle": "2021-05-20T16:17:37.354700Z",
     "shell.execute_reply": "2021-05-20T16:17:37.354130Z",
     "shell.execute_reply.started": "2021-05-20T16:16:45.471639Z"
    },
    "papermill": {
     "duration": 0.100879,
     "end_time": "2021-05-20T16:17:37.354851",
     "exception": false,
     "start_time": "2021-05-20T16:17:37.253972",
     "status": "completed"
    },
    "tags": []
   },
   "outputs": [
    {
     "data": {
      "text/plain": [
       "80.02"
      ]
     },
     "execution_count": 29,
     "metadata": {},
     "output_type": "execute_result"
    }
   ],
   "source": [
    "y_train = train['Survived']\n",
    "\n",
    "features = [\"Pclass\",\"Sex\", \"SibSp\", \"Parch\"]\n",
    "\n",
    "X_train = pd.get_dummies(train[features])\n",
    "X_test = pd.get_dummies(test[features])\n",
    "\n",
    "logreg = LogisticRegression()\n",
    "logreg.fit(X_train, y_train)\n",
    "Y_pred = logreg.predict(X_test)\n",
    "acc_log = round(logreg.score(X_train, y_train) * 100, 2)\n",
    "acc_log"
   ]
  },
  {
   "cell_type": "code",
   "execution_count": 30,
   "id": "indian-filter",
   "metadata": {
    "execution": {
     "iopub.execute_input": "2021-05-20T16:17:37.465328Z",
     "iopub.status.busy": "2021-05-20T16:17:37.464141Z",
     "iopub.status.idle": "2021-05-20T16:17:37.469083Z",
     "shell.execute_reply": "2021-05-20T16:17:37.468427Z",
     "shell.execute_reply.started": "2021-05-20T16:16:45.516695Z"
    },
    "papermill": {
     "duration": 0.066483,
     "end_time": "2021-05-20T16:17:37.469232",
     "exception": false,
     "start_time": "2021-05-20T16:17:37.402749",
     "status": "completed"
    },
    "tags": []
   },
   "outputs": [
    {
     "data": {
      "text/html": [
       "<div>\n",
       "<style scoped>\n",
       "    .dataframe tbody tr th:only-of-type {\n",
       "        vertical-align: middle;\n",
       "    }\n",
       "\n",
       "    .dataframe tbody tr th {\n",
       "        vertical-align: top;\n",
       "    }\n",
       "\n",
       "    .dataframe thead th {\n",
       "        text-align: right;\n",
       "    }\n",
       "</style>\n",
       "<table border=\"1\" class=\"dataframe\">\n",
       "  <thead>\n",
       "    <tr style=\"text-align: right;\">\n",
       "      <th></th>\n",
       "      <th>Feature</th>\n",
       "      <th>Correlation</th>\n",
       "    </tr>\n",
       "  </thead>\n",
       "  <tbody>\n",
       "    <tr>\n",
       "      <th>3</th>\n",
       "      <td>Sex</td>\n",
       "      <td>1.352866</td>\n",
       "    </tr>\n",
       "    <tr>\n",
       "      <th>2</th>\n",
       "      <td>Name</td>\n",
       "      <td>-0.043983</td>\n",
       "    </tr>\n",
       "    <tr>\n",
       "      <th>1</th>\n",
       "      <td>Pclass</td>\n",
       "      <td>-0.228536</td>\n",
       "    </tr>\n",
       "    <tr>\n",
       "      <th>0</th>\n",
       "      <td>Survived</td>\n",
       "      <td>-0.921927</td>\n",
       "    </tr>\n",
       "    <tr>\n",
       "      <th>4</th>\n",
       "      <td>Age</td>\n",
       "      <td>-1.352855</td>\n",
       "    </tr>\n",
       "    <tr>\n",
       "      <th>5</th>\n",
       "      <td>SibSp</td>\n",
       "      <td>NaN</td>\n",
       "    </tr>\n",
       "    <tr>\n",
       "      <th>6</th>\n",
       "      <td>Parch</td>\n",
       "      <td>NaN</td>\n",
       "    </tr>\n",
       "    <tr>\n",
       "      <th>7</th>\n",
       "      <td>Ticket</td>\n",
       "      <td>NaN</td>\n",
       "    </tr>\n",
       "    <tr>\n",
       "      <th>8</th>\n",
       "      <td>Fare</td>\n",
       "      <td>NaN</td>\n",
       "    </tr>\n",
       "    <tr>\n",
       "      <th>9</th>\n",
       "      <td>Cabin</td>\n",
       "      <td>NaN</td>\n",
       "    </tr>\n",
       "    <tr>\n",
       "      <th>10</th>\n",
       "      <td>Embarked</td>\n",
       "      <td>NaN</td>\n",
       "    </tr>\n",
       "  </tbody>\n",
       "</table>\n",
       "</div>"
      ],
      "text/plain": [
       "     Feature  Correlation\n",
       "3        Sex     1.352866\n",
       "2       Name    -0.043983\n",
       "1     Pclass    -0.228536\n",
       "0   Survived    -0.921927\n",
       "4        Age    -1.352855\n",
       "5      SibSp          NaN\n",
       "6      Parch          NaN\n",
       "7     Ticket          NaN\n",
       "8       Fare          NaN\n",
       "9      Cabin          NaN\n",
       "10  Embarked          NaN"
      ]
     },
     "execution_count": 30,
     "metadata": {},
     "output_type": "execute_result"
    }
   ],
   "source": [
    "coeff_df = pd.DataFrame(train.columns.delete(0))\n",
    "coeff_df.columns = ['Feature']\n",
    "coeff_df[\"Correlation\"] = pd.Series(logreg.coef_[0])\n",
    "\n",
    "coeff_df.sort_values(by='Correlation', ascending=False)"
   ]
  },
  {
   "cell_type": "code",
   "execution_count": 31,
   "id": "radical-ethernet",
   "metadata": {
    "execution": {
     "iopub.execute_input": "2021-05-20T16:17:37.577826Z",
     "iopub.status.busy": "2021-05-20T16:17:37.577101Z",
     "iopub.status.idle": "2021-05-20T16:17:37.650626Z",
     "shell.execute_reply": "2021-05-20T16:17:37.649955Z",
     "shell.execute_reply.started": "2021-05-20T16:16:45.532758Z"
    },
    "papermill": {
     "duration": 0.13079,
     "end_time": "2021-05-20T16:17:37.650910",
     "exception": false,
     "start_time": "2021-05-20T16:17:37.520120",
     "status": "completed"
    },
    "tags": []
   },
   "outputs": [
    {
     "data": {
      "text/plain": [
       "80.7"
      ]
     },
     "execution_count": 31,
     "metadata": {},
     "output_type": "execute_result"
    }
   ],
   "source": [
    "from sklearn.neighbors import KNeighborsClassifier\n",
    "knn = KNeighborsClassifier(n_neighbors = 3)\n",
    "knn.fit(X_train, y_train)\n",
    "Y_pred = knn.predict(X_test)\n",
    "acc_knn = round(knn.score(X_train, y_train) * 100, 2)\n",
    "acc_knn"
   ]
  },
  {
   "cell_type": "code",
   "execution_count": 32,
   "id": "celtic-mitchell",
   "metadata": {
    "execution": {
     "iopub.execute_input": "2021-05-20T16:17:37.757335Z",
     "iopub.status.busy": "2021-05-20T16:17:37.756657Z",
     "iopub.status.idle": "2021-05-20T16:17:37.768976Z",
     "shell.execute_reply": "2021-05-20T16:17:37.768408Z",
     "shell.execute_reply.started": "2021-05-20T16:16:45.613701Z"
    },
    "papermill": {
     "duration": 0.06753,
     "end_time": "2021-05-20T16:17:37.769165",
     "exception": false,
     "start_time": "2021-05-20T16:17:37.701635",
     "status": "completed"
    },
    "tags": []
   },
   "outputs": [
    {
     "data": {
      "text/plain": [
       "80.02"
      ]
     },
     "execution_count": 32,
     "metadata": {},
     "output_type": "execute_result"
    }
   ],
   "source": [
    "gaussian = GaussianNB()\n",
    "gaussian.fit(X_train, y_train)\n",
    "Y_pred = gaussian.predict(X_test)\n",
    "acc_gaussian = round(gaussian.score(X_train, y_train) * 100, 2)\n",
    "acc_gaussian"
   ]
  },
  {
   "cell_type": "code",
   "execution_count": 33,
   "id": "nuclear-eagle",
   "metadata": {
    "execution": {
     "iopub.execute_input": "2021-05-20T16:17:37.870772Z",
     "iopub.status.busy": "2021-05-20T16:17:37.870027Z",
     "iopub.status.idle": "2021-05-20T16:17:37.880589Z",
     "shell.execute_reply": "2021-05-20T16:17:37.881309Z",
     "shell.execute_reply.started": "2021-05-20T16:16:45.632486Z"
    },
    "papermill": {
     "duration": 0.065527,
     "end_time": "2021-05-20T16:17:37.881503",
     "exception": false,
     "start_time": "2021-05-20T16:17:37.815976",
     "status": "completed"
    },
    "tags": []
   },
   "outputs": [
    {
     "data": {
      "text/plain": [
       "81.71"
      ]
     },
     "execution_count": 33,
     "metadata": {},
     "output_type": "execute_result"
    }
   ],
   "source": [
    "# Decision Tree\n",
    "\n",
    "decision_tree = DecisionTreeClassifier()\n",
    "decision_tree.fit(X_train, y_train)\n",
    "Y_pred = decision_tree.predict(X_test)\n",
    "acc_decision_tree = round(decision_tree.score(X_train, y_train) * 100, 2)\n",
    "acc_decision_tree"
   ]
  },
  {
   "cell_type": "code",
   "execution_count": 34,
   "id": "parental-maximum",
   "metadata": {
    "execution": {
     "iopub.execute_input": "2021-05-20T16:17:37.983793Z",
     "iopub.status.busy": "2021-05-20T16:17:37.983094Z",
     "iopub.status.idle": "2021-05-20T16:17:38.264983Z",
     "shell.execute_reply": "2021-05-20T16:17:38.263962Z",
     "shell.execute_reply.started": "2021-05-20T16:16:45.652423Z"
    },
    "papermill": {
     "duration": 0.334939,
     "end_time": "2021-05-20T16:17:38.265192",
     "exception": false,
     "start_time": "2021-05-20T16:17:37.930253",
     "status": "completed"
    },
    "tags": []
   },
   "outputs": [
    {
     "data": {
      "text/plain": [
       "81.71"
      ]
     },
     "execution_count": 34,
     "metadata": {},
     "output_type": "execute_result"
    }
   ],
   "source": [
    "# Random Forest\n",
    "\n",
    "random_forest = RandomForestClassifier(n_estimators=100)\n",
    "random_forest.fit(X_train, y_train)\n",
    "Y_pred = random_forest.predict(X_test)\n",
    "random_forest.score(X_train, y_train)\n",
    "acc_random_forest = round(random_forest.score(X_train, y_train) * 100, 2)\n",
    "acc_random_forest"
   ]
  },
  {
   "cell_type": "code",
   "execution_count": 35,
   "id": "circular-entity",
   "metadata": {
    "execution": {
     "iopub.execute_input": "2021-05-20T16:17:38.374317Z",
     "iopub.status.busy": "2021-05-20T16:17:38.373561Z",
     "iopub.status.idle": "2021-05-20T16:17:38.377694Z",
     "shell.execute_reply": "2021-05-20T16:17:38.378170Z",
     "shell.execute_reply.started": "2021-05-20T16:16:45.922517Z"
    },
    "papermill": {
     "duration": 0.064816,
     "end_time": "2021-05-20T16:17:38.378359",
     "exception": false,
     "start_time": "2021-05-20T16:17:38.313543",
     "status": "completed"
    },
    "tags": []
   },
   "outputs": [
    {
     "data": {
      "text/html": [
       "<div>\n",
       "<style scoped>\n",
       "    .dataframe tbody tr th:only-of-type {\n",
       "        vertical-align: middle;\n",
       "    }\n",
       "\n",
       "    .dataframe tbody tr th {\n",
       "        vertical-align: top;\n",
       "    }\n",
       "\n",
       "    .dataframe thead th {\n",
       "        text-align: right;\n",
       "    }\n",
       "</style>\n",
       "<table border=\"1\" class=\"dataframe\">\n",
       "  <thead>\n",
       "    <tr style=\"text-align: right;\">\n",
       "      <th></th>\n",
       "      <th>Model</th>\n",
       "      <th>Score</th>\n",
       "    </tr>\n",
       "  </thead>\n",
       "  <tbody>\n",
       "    <tr>\n",
       "      <th>2</th>\n",
       "      <td>Random Forest</td>\n",
       "      <td>81.71</td>\n",
       "    </tr>\n",
       "    <tr>\n",
       "      <th>4</th>\n",
       "      <td>Decision Tree</td>\n",
       "      <td>81.71</td>\n",
       "    </tr>\n",
       "    <tr>\n",
       "      <th>0</th>\n",
       "      <td>KNN</td>\n",
       "      <td>80.70</td>\n",
       "    </tr>\n",
       "    <tr>\n",
       "      <th>1</th>\n",
       "      <td>Logistic Regression</td>\n",
       "      <td>80.02</td>\n",
       "    </tr>\n",
       "    <tr>\n",
       "      <th>3</th>\n",
       "      <td>Naive Bayes</td>\n",
       "      <td>80.02</td>\n",
       "    </tr>\n",
       "  </tbody>\n",
       "</table>\n",
       "</div>"
      ],
      "text/plain": [
       "                 Model  Score\n",
       "2        Random Forest  81.71\n",
       "4        Decision Tree  81.71\n",
       "0                  KNN  80.70\n",
       "1  Logistic Regression  80.02\n",
       "3          Naive Bayes  80.02"
      ]
     },
     "execution_count": 35,
     "metadata": {},
     "output_type": "execute_result"
    }
   ],
   "source": [
    "models = pd.DataFrame({\n",
    "    'Model': ['KNN', 'Logistic Regression', \n",
    "              'Random Forest', 'Naive Bayes',  \n",
    "              'Decision Tree'],\n",
    "    'Score': [acc_knn, acc_log, \n",
    "              acc_random_forest, acc_gaussian,  \n",
    "              acc_decision_tree]})\n",
    "models.sort_values(by='Score', ascending=False)"
   ]
  },
  {
   "cell_type": "code",
   "execution_count": 36,
   "id": "sitting-helena",
   "metadata": {
    "execution": {
     "iopub.execute_input": "2021-05-20T16:17:38.481419Z",
     "iopub.status.busy": "2021-05-20T16:17:38.480385Z",
     "iopub.status.idle": "2021-05-20T16:17:38.483400Z",
     "shell.execute_reply": "2021-05-20T16:17:38.482853Z",
     "shell.execute_reply.started": "2021-05-20T16:16:45.941004Z"
    },
    "papermill": {
     "duration": 0.055316,
     "end_time": "2021-05-20T16:17:38.483546",
     "exception": false,
     "start_time": "2021-05-20T16:17:38.428230",
     "status": "completed"
    },
    "tags": []
   },
   "outputs": [],
   "source": [
    "from sklearn.svm import SVC, LinearSVC\n",
    "from sklearn.linear_model import Perceptron\n",
    "from sklearn.linear_model import SGDClassifier"
   ]
  },
  {
   "cell_type": "code",
   "execution_count": 37,
   "id": "afraid-detective",
   "metadata": {
    "execution": {
     "iopub.execute_input": "2021-05-20T16:17:38.581362Z",
     "iopub.status.busy": "2021-05-20T16:17:38.580702Z",
     "iopub.status.idle": "2021-05-20T16:17:38.598241Z",
     "shell.execute_reply": "2021-05-20T16:17:38.597649Z",
     "shell.execute_reply.started": "2021-05-20T16:16:45.958118Z"
    },
    "papermill": {
     "duration": 0.067556,
     "end_time": "2021-05-20T16:17:38.598384",
     "exception": false,
     "start_time": "2021-05-20T16:17:38.530828",
     "status": "completed"
    },
    "tags": []
   },
   "outputs": [
    {
     "data": {
      "text/plain": [
       "77.33"
      ]
     },
     "execution_count": 37,
     "metadata": {},
     "output_type": "execute_result"
    }
   ],
   "source": [
    "# Perceptron\n",
    "\n",
    "perceptron = Perceptron()\n",
    "perceptron.fit(X_train, y_train)\n",
    "Y_pred = perceptron.predict(X_test)\n",
    "acc_perceptron = round(perceptron.score(X_train, y_train) * 100, 2)\n",
    "acc_perceptron"
   ]
  },
  {
   "cell_type": "code",
   "execution_count": 38,
   "id": "amateur-pledge",
   "metadata": {
    "execution": {
     "iopub.execute_input": "2021-05-20T16:17:38.702792Z",
     "iopub.status.busy": "2021-05-20T16:17:38.701729Z",
     "iopub.status.idle": "2021-05-20T16:17:38.763594Z",
     "shell.execute_reply": "2021-05-20T16:17:38.762941Z",
     "shell.execute_reply.started": "2021-05-20T16:16:45.990389Z"
    },
    "papermill": {
     "duration": 0.117115,
     "end_time": "2021-05-20T16:17:38.763735",
     "exception": false,
     "start_time": "2021-05-20T16:17:38.646620",
     "status": "completed"
    },
    "tags": []
   },
   "outputs": [
    {
     "data": {
      "text/plain": [
       "80.58"
      ]
     },
     "execution_count": 38,
     "metadata": {},
     "output_type": "execute_result"
    }
   ],
   "source": [
    "# Support Vector Machines\n",
    "\n",
    "svc = SVC()\n",
    "svc.fit(X_train, y_train)\n",
    "Y_pred = svc.predict(X_test)\n",
    "acc_svc = round(svc.score(X_train, y_train) * 100, 2)\n",
    "acc_svc"
   ]
  },
  {
   "cell_type": "code",
   "execution_count": 39,
   "id": "pursuant-retro",
   "metadata": {
    "execution": {
     "iopub.execute_input": "2021-05-20T16:17:38.867902Z",
     "iopub.status.busy": "2021-05-20T16:17:38.866947Z",
     "iopub.status.idle": "2021-05-20T16:17:38.914539Z",
     "shell.execute_reply": "2021-05-20T16:17:38.913867Z",
     "shell.execute_reply.started": "2021-05-20T16:16:46.062880Z"
    },
    "papermill": {
     "duration": 0.103102,
     "end_time": "2021-05-20T16:17:38.914684",
     "exception": false,
     "start_time": "2021-05-20T16:17:38.811582",
     "status": "completed"
    },
    "tags": []
   },
   "outputs": [
    {
     "data": {
      "text/plain": [
       "79.35"
      ]
     },
     "execution_count": 39,
     "metadata": {},
     "output_type": "execute_result"
    }
   ],
   "source": [
    "# Linear SVC\n",
    "\n",
    "linear_svc = LinearSVC()\n",
    "linear_svc.fit(X_train, y_train)\n",
    "Y_pred = linear_svc.predict(X_test)\n",
    "acc_linear_svc = round(linear_svc.score(X_train, y_train) * 100, 2)\n",
    "acc_linear_svc"
   ]
  },
  {
   "cell_type": "code",
   "execution_count": 40,
   "id": "charitable-spelling",
   "metadata": {
    "execution": {
     "iopub.execute_input": "2021-05-20T16:17:39.021623Z",
     "iopub.status.busy": "2021-05-20T16:17:39.020969Z",
     "iopub.status.idle": "2021-05-20T16:17:39.037055Z",
     "shell.execute_reply": "2021-05-20T16:17:39.036383Z",
     "shell.execute_reply.started": "2021-05-20T16:16:46.116966Z"
    },
    "papermill": {
     "duration": 0.072917,
     "end_time": "2021-05-20T16:17:39.037202",
     "exception": false,
     "start_time": "2021-05-20T16:17:38.964285",
     "status": "completed"
    },
    "tags": []
   },
   "outputs": [
    {
     "data": {
      "text/plain": [
       "80.02"
      ]
     },
     "execution_count": 40,
     "metadata": {},
     "output_type": "execute_result"
    }
   ],
   "source": [
    "# Stochastic Gradient Descent\n",
    "\n",
    "sgd = SGDClassifier()\n",
    "sgd.fit(X_train, y_train)\n",
    "Y_pred = sgd.predict(X_test)\n",
    "acc_sgd = round(sgd.score(X_train, y_train) * 100, 2)\n",
    "acc_sgd"
   ]
  },
  {
   "cell_type": "code",
   "execution_count": 41,
   "id": "conceptual-morgan",
   "metadata": {
    "execution": {
     "iopub.execute_input": "2021-05-20T16:17:39.150549Z",
     "iopub.status.busy": "2021-05-20T16:17:39.149826Z",
     "iopub.status.idle": "2021-05-20T16:17:39.154036Z",
     "shell.execute_reply": "2021-05-20T16:17:39.153524Z",
     "shell.execute_reply.started": "2021-05-20T16:16:46.141377Z"
    },
    "papermill": {
     "duration": 0.06708,
     "end_time": "2021-05-20T16:17:39.154180",
     "exception": false,
     "start_time": "2021-05-20T16:17:39.087100",
     "status": "completed"
    },
    "tags": []
   },
   "outputs": [
    {
     "data": {
      "text/html": [
       "<div>\n",
       "<style scoped>\n",
       "    .dataframe tbody tr th:only-of-type {\n",
       "        vertical-align: middle;\n",
       "    }\n",
       "\n",
       "    .dataframe tbody tr th {\n",
       "        vertical-align: top;\n",
       "    }\n",
       "\n",
       "    .dataframe thead th {\n",
       "        text-align: right;\n",
       "    }\n",
       "</style>\n",
       "<table border=\"1\" class=\"dataframe\">\n",
       "  <thead>\n",
       "    <tr style=\"text-align: right;\">\n",
       "      <th></th>\n",
       "      <th>Model</th>\n",
       "      <th>Score</th>\n",
       "    </tr>\n",
       "  </thead>\n",
       "  <tbody>\n",
       "    <tr>\n",
       "      <th>3</th>\n",
       "      <td>Random Forest</td>\n",
       "      <td>81.71</td>\n",
       "    </tr>\n",
       "    <tr>\n",
       "      <th>8</th>\n",
       "      <td>Decision Tree</td>\n",
       "      <td>81.71</td>\n",
       "    </tr>\n",
       "    <tr>\n",
       "      <th>1</th>\n",
       "      <td>KNN</td>\n",
       "      <td>80.70</td>\n",
       "    </tr>\n",
       "    <tr>\n",
       "      <th>0</th>\n",
       "      <td>Support Vector Machines</td>\n",
       "      <td>80.58</td>\n",
       "    </tr>\n",
       "    <tr>\n",
       "      <th>2</th>\n",
       "      <td>Logistic Regression</td>\n",
       "      <td>80.02</td>\n",
       "    </tr>\n",
       "    <tr>\n",
       "      <th>4</th>\n",
       "      <td>Naive Bayes</td>\n",
       "      <td>80.02</td>\n",
       "    </tr>\n",
       "    <tr>\n",
       "      <th>6</th>\n",
       "      <td>Stochastic Gradient Decent</td>\n",
       "      <td>80.02</td>\n",
       "    </tr>\n",
       "    <tr>\n",
       "      <th>7</th>\n",
       "      <td>Linear SVC</td>\n",
       "      <td>79.35</td>\n",
       "    </tr>\n",
       "    <tr>\n",
       "      <th>5</th>\n",
       "      <td>Perceptron</td>\n",
       "      <td>77.33</td>\n",
       "    </tr>\n",
       "  </tbody>\n",
       "</table>\n",
       "</div>"
      ],
      "text/plain": [
       "                        Model  Score\n",
       "3               Random Forest  81.71\n",
       "8               Decision Tree  81.71\n",
       "1                         KNN  80.70\n",
       "0     Support Vector Machines  80.58\n",
       "2         Logistic Regression  80.02\n",
       "4                 Naive Bayes  80.02\n",
       "6  Stochastic Gradient Decent  80.02\n",
       "7                  Linear SVC  79.35\n",
       "5                  Perceptron  77.33"
      ]
     },
     "execution_count": 41,
     "metadata": {},
     "output_type": "execute_result"
    }
   ],
   "source": [
    "models = pd.DataFrame({\n",
    "    'Model': ['Support Vector Machines', 'KNN', 'Logistic Regression', \n",
    "              'Random Forest', 'Naive Bayes', 'Perceptron', \n",
    "              'Stochastic Gradient Decent', 'Linear SVC', \n",
    "              'Decision Tree'],\n",
    "    'Score': [acc_svc, acc_knn, acc_log, \n",
    "              acc_random_forest, acc_gaussian, acc_perceptron, \n",
    "              acc_sgd, acc_linear_svc, acc_decision_tree]})\n",
    "models.sort_values(by='Score', ascending=False)"
   ]
  },
  {
   "cell_type": "code",
   "execution_count": 42,
   "id": "average-screen",
   "metadata": {
    "execution": {
     "iopub.execute_input": "2021-05-20T16:17:39.266809Z",
     "iopub.status.busy": "2021-05-20T16:17:39.265776Z",
     "iopub.status.idle": "2021-05-20T16:17:40.346457Z",
     "shell.execute_reply": "2021-05-20T16:17:40.347261Z",
     "shell.execute_reply.started": "2021-05-20T16:16:46.160400Z"
    },
    "papermill": {
     "duration": 1.144282,
     "end_time": "2021-05-20T16:17:40.347507",
     "exception": false,
     "start_time": "2021-05-20T16:17:39.203225",
     "status": "completed"
    },
    "tags": []
   },
   "outputs": [
    {
     "name": "stdout",
     "output_type": "stream",
     "text": [
      "Your submission was successfully saved!\n"
     ]
    }
   ],
   "source": [
    "from sklearn.ensemble import RandomForestClassifier\n",
    "y = train['Survived']\n",
    "\n",
    "features = [\"Pclass\",\"Sex\", \"SibSp\", \"Parch\"]\n",
    "\n",
    "X = pd.get_dummies(train[features])\n",
    "X_test = pd.get_dummies(test[features])\n",
    "\n",
    "model = RandomForestClassifier(n_estimators = 500, max_depth = 6, random_state=0)\n",
    "model.fit(X,y)\n",
    "predictions = model.predict(X_test)\n",
    "\n",
    "output = pd.DataFrame({'PassengerId': test.PassengerId, 'Survived': predictions})\n",
    "output.to_csv('my_submission.csv', index=False)\n",
    "print(\"Your submission was successfully saved!\")"
   ]
  }
 ],
 "metadata": {
  "kernelspec": {
   "display_name": "Python 3",
   "language": "python",
   "name": "python3"
  },
  "language_info": {
   "codemirror_mode": {
    "name": "ipython",
    "version": 3
   },
   "file_extension": ".py",
   "mimetype": "text/x-python",
   "name": "python",
   "nbconvert_exporter": "python",
   "pygments_lexer": "ipython3",
   "version": "3.7.10"
  },
  "papermill": {
   "default_parameters": {},
   "duration": 19.056741,
   "end_time": "2021-05-20T16:17:41.977062",
   "environment_variables": {},
   "exception": null,
   "input_path": "__notebook__.ipynb",
   "output_path": "__notebook__.ipynb",
   "parameters": {},
   "start_time": "2021-05-20T16:17:22.920321",
   "version": "2.3.3"
  }
 },
 "nbformat": 4,
 "nbformat_minor": 5
}
